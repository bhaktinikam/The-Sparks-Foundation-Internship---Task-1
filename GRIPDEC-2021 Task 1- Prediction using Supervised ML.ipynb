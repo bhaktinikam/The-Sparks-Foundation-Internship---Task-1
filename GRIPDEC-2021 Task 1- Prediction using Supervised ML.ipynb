{
 "cells": [
  {
   "cell_type": "markdown",
   "id": "72c3d83b",
   "metadata": {},
   "source": [
    "# The Sparks Foundation - Data Science & Business Analytics Internship\n",
    "\n",
    "## Task - 1 Prediction using Supervised ML\n",
    "### Simple Linear Regression\n",
    "#### In this regression task we will predict the percentage of marks that a student is expected to score based upon the number of hours they studied. This is a simple linear regression task as it involves just two variables.\n",
    "\n",
    "## Author - Bhakti Nikam\n",
    "\n",
    "## Batch - December 2021"
   ]
  },
  {
   "cell_type": "code",
   "execution_count": 1,
   "id": "7d0fbf8a",
   "metadata": {},
   "outputs": [],
   "source": [
    "# Importing all libraries required in this notebook\n",
    "import pandas as pd\n",
    "import numpy as np  \n",
    "import matplotlib.pyplot as plt  \n",
    "import seaborn as sns\n",
    "from sklearn.model_selection import train_test_split\n",
    "from sklearn.linear_model import LinearRegression\n",
    "from sklearn.metrics import mean_absolute_error\n",
    "%matplotlib inline"
   ]
  },
  {
   "cell_type": "code",
   "execution_count": 2,
   "id": "e3c56137",
   "metadata": {},
   "outputs": [
    {
     "name": "stdout",
     "output_type": "stream",
     "text": [
      "Data imported successfully\n"
     ]
    },
    {
     "data": {
      "text/html": [
       "<div>\n",
       "<style scoped>\n",
       "    .dataframe tbody tr th:only-of-type {\n",
       "        vertical-align: middle;\n",
       "    }\n",
       "\n",
       "    .dataframe tbody tr th {\n",
       "        vertical-align: top;\n",
       "    }\n",
       "\n",
       "    .dataframe thead th {\n",
       "        text-align: right;\n",
       "    }\n",
       "</style>\n",
       "<table border=\"1\" class=\"dataframe\">\n",
       "  <thead>\n",
       "    <tr style=\"text-align: right;\">\n",
       "      <th></th>\n",
       "      <th>Hours</th>\n",
       "      <th>Scores</th>\n",
       "    </tr>\n",
       "  </thead>\n",
       "  <tbody>\n",
       "    <tr>\n",
       "      <th>0</th>\n",
       "      <td>2.5</td>\n",
       "      <td>21</td>\n",
       "    </tr>\n",
       "    <tr>\n",
       "      <th>1</th>\n",
       "      <td>5.1</td>\n",
       "      <td>47</td>\n",
       "    </tr>\n",
       "    <tr>\n",
       "      <th>2</th>\n",
       "      <td>3.2</td>\n",
       "      <td>27</td>\n",
       "    </tr>\n",
       "    <tr>\n",
       "      <th>3</th>\n",
       "      <td>8.5</td>\n",
       "      <td>75</td>\n",
       "    </tr>\n",
       "    <tr>\n",
       "      <th>4</th>\n",
       "      <td>3.5</td>\n",
       "      <td>30</td>\n",
       "    </tr>\n",
       "  </tbody>\n",
       "</table>\n",
       "</div>"
      ],
      "text/plain": [
       "   Hours  Scores\n",
       "0    2.5      21\n",
       "1    5.1      47\n",
       "2    3.2      27\n",
       "3    8.5      75\n",
       "4    3.5      30"
      ]
     },
     "execution_count": 2,
     "metadata": {},
     "output_type": "execute_result"
    }
   ],
   "source": [
    "# Reading the given dataset\n",
    "url = \"http://bit.ly/w-data\"\n",
    "data = pd.read_csv(url)\n",
    "print(\"Data imported successfully\")\n",
    "\n",
    "data.head()"
   ]
  },
  {
   "cell_type": "code",
   "execution_count": 3,
   "id": "b95f7fbb",
   "metadata": {},
   "outputs": [
    {
     "name": "stdout",
     "output_type": "stream",
     "text": [
      "(25, 2)\n"
     ]
    }
   ],
   "source": [
    "# using dataframe.shape to get a tuple representing the dimensionality of the DataFrame (Rows,Columns)\n",
    "print (data.shape)"
   ]
  },
  {
   "cell_type": "code",
   "execution_count": 4,
   "id": "d21e969e",
   "metadata": {},
   "outputs": [
    {
     "name": "stdout",
     "output_type": "stream",
     "text": [
      "           Hours     Scores\n",
      "count  25.000000  25.000000\n",
      "mean    5.012000  51.480000\n",
      "std     2.525094  25.286887\n",
      "min     1.100000  17.000000\n",
      "25%     2.700000  30.000000\n",
      "50%     4.800000  47.000000\n",
      "75%     7.400000  75.000000\n",
      "max     9.200000  95.000000\n"
     ]
    }
   ],
   "source": [
    "# using dataframe.describe to get the statistical summary of the DataFrame\n",
    "print (data.describe())"
   ]
  },
  {
   "cell_type": "code",
   "execution_count": 5,
   "id": "554f7791",
   "metadata": {},
   "outputs": [
    {
     "name": "stdout",
     "output_type": "stream",
     "text": [
      "<class 'pandas.core.frame.DataFrame'>\n",
      "RangeIndex: 25 entries, 0 to 24\n",
      "Data columns (total 2 columns):\n",
      " #   Column  Non-Null Count  Dtype  \n",
      "---  ------  --------------  -----  \n",
      " 0   Hours   25 non-null     float64\n",
      " 1   Scores  25 non-null     int64  \n",
      "dtypes: float64(1), int64(1)\n",
      "memory usage: 528.0 bytes\n",
      "None\n"
     ]
    }
   ],
   "source": [
    "# using dataframe.info to get a concise summary of the DataFrame\n",
    "print (data.info())"
   ]
  },
  {
   "cell_type": "code",
   "execution_count": 6,
   "id": "10a1fb15",
   "metadata": {},
   "outputs": [
    {
     "data": {
      "text/plain": [
       "False"
      ]
     },
     "execution_count": 6,
     "metadata": {},
     "output_type": "execute_result"
    }
   ],
   "source": [
    "# checking the presence of missing values in the datafarme\n",
    "data.isnull().values.any()"
   ]
  },
  {
   "cell_type": "markdown",
   "id": "bd83ca48",
   "metadata": {},
   "source": [
    "There are no missing values so we do not need to clean the data.\n"
   ]
  },
  {
   "cell_type": "markdown",
   "id": "5eef5ae3",
   "metadata": {},
   "source": [
    "Let's visualize the dataset by plotting a 2-D graph to check if there is any relationship between the data."
   ]
  },
  {
   "cell_type": "code",
   "execution_count": 7,
   "id": "9fb36616",
   "metadata": {},
   "outputs": [
    {
     "data": {
      "image/png": "[encoded data removed]",
      "text/plain": [
       "<Figure size 432x288 with 1 Axes>"
      ]
     },
     "metadata": {
      "needs_background": "light"
     },
     "output_type": "display_data"
    }
   ],
   "source": [
    "# visualizing the dataframe using a scatterplot\n",
    "data.plot(x='Hours', y='Scores', style='o')  \n",
    "plt.title('Hours vs Percentage')  \n",
    "plt.xlabel('Hours Studied')  \n",
    "plt.ylabel('Percentage Score') \n",
    "plt.grid (True)\n",
    "plt.show()"
   ]
  },
  {
   "cell_type": "markdown",
   "id": "e191bfe3",
   "metadata": {},
   "source": [
    "From the graph above, we can clearly see that number of hours studied are positively correlated with percentage of score."
   ]
  },
  {
   "cell_type": "markdown",
   "id": "155e1014",
   "metadata": {},
   "source": [
    "### Preparing the Data"
   ]
  },
  {
   "cell_type": "code",
   "execution_count": 8,
   "id": "03e6d2e0",
   "metadata": {},
   "outputs": [],
   "source": [
    "# dividing the dataset into dependent(input) and independent(output) variables\n",
    "x = data['Hours']     #Input\n",
    "y = data['Scores']    #Output"
   ]
  },
  {
   "cell_type": "code",
   "execution_count": 9,
   "id": "796e95d9",
   "metadata": {},
   "outputs": [
    {
     "name": "stdout",
     "output_type": "stream",
     "text": [
      "(Index)(Value of x) \n",
      "\n",
      "0     2.5\n",
      "1     5.1\n",
      "2     3.2\n",
      "3     8.5\n",
      "4     3.5\n",
      "5     1.5\n",
      "6     9.2\n",
      "7     5.5\n",
      "8     8.3\n",
      "9     2.7\n",
      "10    7.7\n",
      "11    5.9\n",
      "12    4.5\n",
      "13    3.3\n",
      "14    1.1\n",
      "15    8.9\n",
      "16    2.5\n",
      "17    1.9\n",
      "18    6.1\n",
      "19    7.4\n",
      "20    2.7\n",
      "21    4.8\n",
      "22    3.8\n",
      "23    6.9\n",
      "24    7.8\n",
      "Name: Hours, dtype: float64\n",
      "(Index)(Value of y) \n",
      "\n",
      "0     21\n",
      "1     47\n",
      "2     27\n",
      "3     75\n",
      "4     30\n",
      "5     20\n",
      "6     88\n",
      "7     60\n",
      "8     81\n",
      "9     25\n",
      "10    85\n",
      "11    62\n",
      "12    41\n",
      "13    42\n",
      "14    17\n",
      "15    95\n",
      "16    30\n",
      "17    24\n",
      "18    67\n",
      "19    69\n",
      "20    30\n",
      "21    54\n",
      "22    35\n",
      "23    76\n",
      "24    86\n",
      "Name: Scores, dtype: int64\n"
     ]
    }
   ],
   "source": [
    "print (\"(Index)(Value of x) \\n\")\n",
    "print (x)\n",
    "print (\"(Index)(Value of y) \\n\")\n",
    "print (y)"
   ]
  },
  {
   "cell_type": "markdown",
   "id": "5075b44d",
   "metadata": {},
   "source": [
    "Now that we have our attributes and labels, the next step is to split this data into training and test sets. We'll do this by using Scikit-Learn's built-in train_test_split() method:"
   ]
  },
  {
   "cell_type": "markdown",
   "id": "918f15c5",
   "metadata": {},
   "source": [
    "### Training the Algorithm\n",
    "We have split our data into training and testing sets, and now is finally the time to train our algorithm."
   ]
  },
  {
   "cell_type": "code",
   "execution_count": 10,
   "id": "5a110c30",
   "metadata": {},
   "outputs": [],
   "source": [
    "X = data.iloc[:, :-1].values  \n",
    "Y = data.iloc[:, 1].values"
   ]
  },
  {
   "cell_type": "code",
   "execution_count": 11,
   "id": "24af68a0",
   "metadata": {},
   "outputs": [],
   "source": [
    "from sklearn.model_selection import train_test_split  \n",
    "X_train, X_test, Y_train, Y_test = train_test_split(X, Y, test_size=0.2, random_state=0)"
   ]
  },
  {
   "cell_type": "code",
   "execution_count": 12,
   "id": "059a83cd",
   "metadata": {},
   "outputs": [],
   "source": [
    "lm =LinearRegression()  \n",
    "model=lm.fit(X_train, Y_train) "
   ]
  },
  {
   "cell_type": "code",
   "execution_count": 13,
   "id": "19fa69f7",
   "metadata": {},
   "outputs": [
    {
     "name": "stdout",
     "output_type": "stream",
     "text": [
      "Intercept:                                2.0181600414346974\n",
      "Coefficient of the independent variable:  [9.91065648]\n",
      "\n",
      "Training complete.\n"
     ]
    }
   ],
   "source": [
    "print(\"Intercept:                               \", model.intercept_)\n",
    "print(\"Coefficient of the independent variable: \",model.coef_)\n",
    "print(\"\\nTraining complete.\")"
   ]
  },
  {
   "cell_type": "code",
   "execution_count": 14,
   "id": "fe9b0d4b",
   "metadata": {},
   "outputs": [
    {
     "name": "stdout",
     "output_type": "stream",
     "text": [
      "Data is Trained\n"
     ]
    }
   ],
   "source": [
    "from sklearn.linear_model import LinearRegression\n",
    "LR = LinearRegression()\n",
    "LR.fit(X_train, Y_train)\n",
    "print(\"Data is Trained\")"
   ]
  },
  {
   "cell_type": "code",
   "execution_count": 15,
   "id": "c47e453d",
   "metadata": {},
   "outputs": [],
   "source": [
    "#Regression Line\n",
    "line = model.intercept_ + model.coef_*x\n"
   ]
  },
  {
   "cell_type": "code",
   "execution_count": 16,
   "id": "eb88ce2b",
   "metadata": {},
   "outputs": [
    {
     "data": {
      "image/png": "[encoded data removed]",
      "text/plain": [
       "<Figure size 432x288 with 1 Axes>"
      ]
     },
     "metadata": {
      "needs_background": "light"
     },
     "output_type": "display_data"
    }
   ],
   "source": [
    "line = LR.coef_ * X+LR.intercept_\n",
    "\n",
    "plt.scatter(X,Y,color='blue', label = 'Score')\n",
    "plt.title(\"Study Hours Vs Percentage scores \\n Graph\")\n",
    "plt.xlabel(\"Hours\")\n",
    "plt.ylabel(\"Scores\")\n",
    "plt.plot(X,line,color='green', label = 'regression line')\n",
    "plt.legend()\n",
    "plt.show()"
   ]
  },
  {
   "cell_type": "markdown",
   "id": "04a18121",
   "metadata": {},
   "source": [
    "### Predicting Dataset"
   ]
  },
  {
   "cell_type": "code",
   "execution_count": 17,
   "id": "327a3303",
   "metadata": {},
   "outputs": [],
   "source": [
    "Y_predicted = model.predict(X_test)"
   ]
  },
  {
   "cell_type": "markdown",
   "id": "33c6c50e",
   "metadata": {},
   "source": [
    "###### Comparing the actual and Predicted Scores"
   ]
  },
  {
   "cell_type": "code",
   "execution_count": 18,
   "id": "e5fe1d75",
   "metadata": {},
   "outputs": [
    {
     "data": {
      "text/html": [
       "<div>\n",
       "<style scoped>\n",
       "    .dataframe tbody tr th:only-of-type {\n",
       "        vertical-align: middle;\n",
       "    }\n",
       "\n",
       "    .dataframe tbody tr th {\n",
       "        vertical-align: top;\n",
       "    }\n",
       "\n",
       "    .dataframe thead th {\n",
       "        text-align: right;\n",
       "    }\n",
       "</style>\n",
       "<table border=\"1\" class=\"dataframe\">\n",
       "  <thead>\n",
       "    <tr style=\"text-align: right;\">\n",
       "      <th></th>\n",
       "      <th>Actual</th>\n",
       "      <th>Predicted</th>\n",
       "    </tr>\n",
       "  </thead>\n",
       "  <tbody>\n",
       "    <tr>\n",
       "      <th>0</th>\n",
       "      <td>20</td>\n",
       "      <td>16.884145</td>\n",
       "    </tr>\n",
       "    <tr>\n",
       "      <th>1</th>\n",
       "      <td>27</td>\n",
       "      <td>33.732261</td>\n",
       "    </tr>\n",
       "    <tr>\n",
       "      <th>2</th>\n",
       "      <td>69</td>\n",
       "      <td>75.357018</td>\n",
       "    </tr>\n",
       "    <tr>\n",
       "      <th>3</th>\n",
       "      <td>30</td>\n",
       "      <td>26.794801</td>\n",
       "    </tr>\n",
       "    <tr>\n",
       "      <th>4</th>\n",
       "      <td>62</td>\n",
       "      <td>60.491033</td>\n",
       "    </tr>\n",
       "  </tbody>\n",
       "</table>\n",
       "</div>"
      ],
      "text/plain": [
       "   Actual  Predicted\n",
       "0      20  16.884145\n",
       "1      27  33.732261\n",
       "2      69  75.357018\n",
       "3      30  26.794801\n",
       "4      62  60.491033"
      ]
     },
     "execution_count": 18,
     "metadata": {},
     "output_type": "execute_result"
    }
   ],
   "source": [
    "# Comparing Actual vs Predicted\n",
    "df = pd.DataFrame({'Actual': Y_test, 'Predicted': Y_predicted})  \n",
    "df "
   ]
  },
  {
   "cell_type": "markdown",
   "id": "bab36357",
   "metadata": {},
   "source": [
    "### Solving the task using model\n",
    "#### What will be the predicted score of a student if he/she studies for 9.25 hrs/day?"
   ]
  },
  {
   "cell_type": "code",
   "execution_count": 19,
   "id": "c0011a5a",
   "metadata": {},
   "outputs": [
    {
     "name": "stdout",
     "output_type": "stream",
     "text": [
      "No. of Hours Studied :       9.25\n",
      "Predicted Percentage Score : 93.69173248737535\n"
     ]
    }
   ],
   "source": [
    "task = 9.25 #hrs/day\n",
    "predicted_score = model.predict([[task]])\n",
    "print(\"No. of Hours Studied :      \", task)\n",
    "print(\"Predicted Percentage Score :\",predicted_score[0])"
   ]
  },
  {
   "cell_type": "markdown",
   "id": "b5a45706",
   "metadata": {},
   "source": [
    "#### Now we will check the R squared value to check the accuracy of our model"
   ]
  },
  {
   "cell_type": "code",
   "execution_count": 20,
   "id": "76fc9a16",
   "metadata": {},
   "outputs": [
    {
     "data": {
      "text/plain": [
       "0.9448314153038563"
      ]
     },
     "execution_count": 20,
     "metadata": {},
     "output_type": "execute_result"
    }
   ],
   "source": [
    "from sklearn.metrics import r2_score\n",
    "Y_true = [20,27,69,30,62]\n",
    "Y_predicted = [16.9,33.8,75.4,26.8,60.5]\n",
    "r2_score(Y_true,Y_predicted)"
   ]
  },
  {
   "cell_type": "markdown",
   "id": "4914e2df",
   "metadata": {},
   "source": [
    "### The R Squared value is 0.944. It can be referred that 94.4% of the changeability of the dependent output attribute can be explained by the model which means it can give 94.4% accurate results!"
   ]
  },
  {
   "cell_type": "markdown",
   "id": "903fe9bb",
   "metadata": {},
   "source": [
    "##### Evaluating the model\n",
    "The final step is to evaluate the performance of algorithm. This step is particularly important to compare how well different algorithms perform on a particular dataset. For simplicity here, we have chosen the mean square error. There are many such metrics."
   ]
  },
  {
   "cell_type": "code",
   "execution_count": 21,
   "id": "55970baf",
   "metadata": {},
   "outputs": [
    {
     "name": "stdout",
     "output_type": "stream",
     "text": [
      "Mean Absolute Error : 4.200000000000001\n",
      "Mean Squared Error : 21.860000000000007\n"
     ]
    }
   ],
   "source": [
    "# Evaluating absolute errors\n",
    "from sklearn import metrics \n",
    "print(\"Mean Absolute Error :\", metrics.mean_absolute_error(Y_test, Y_predicted))\n",
    "print(\"Mean Squared Error :\", metrics.mean_squared_error(Y_test, Y_predicted))"
   ]
  },
  {
   "cell_type": "markdown",
   "id": "b84f1ffa",
   "metadata": {},
   "source": [
    "## Conclusion\n",
    "#### 1) Our model predicts that if a student studies for 9.25 hrs/day then he/she will score 93.69%.\n",
    "#### 2) The accuracy of our model is 94.4%."
   ]
  },
  {
   "cell_type": "code",
   "execution_count": null,
   "id": "cc9cc264",
   "metadata": {},
   "outputs": [],
   "source": []
  }
 ],
 "metadata": {
  "kernelspec": {
   "display_name": "Python 3 (ipykernel)",
   "language": "python",
   "name": "python3"
  },
  "language_info": {
   "codemirror_mode": {
    "name": "ipython",
    "version": 3
   },
   "file_extension": ".py",
   "mimetype": "text/x-python",
   "name": "python",
   "nbconvert_exporter": "python",
   "pygments_lexer": "ipython3",
   "version": "3.9.7"
  }
 },
 "nbformat": 4,
 "nbformat_minor": 5
}
